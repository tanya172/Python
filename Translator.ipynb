{
  "nbformat": 4,
  "nbformat_minor": 0,
  "metadata": {
    "colab": {
      "provenance": [],
      "authorship_tag": "ABX9TyPGJBLC9jKtkb9rPpFoaeTN",
      "include_colab_link": true
    },
    "kernelspec": {
      "name": "python3",
      "display_name": "Python 3"
    },
    "language_info": {
      "name": "python"
    }
  },
  "cells": [
    {
      "cell_type": "markdown",
      "metadata": {
        "id": "view-in-github",
        "colab_type": "text"
      },
      "source": [
        "<a href=\"https://colab.research.google.com/github/tanya172/Python/blob/main/Translator.ipynb\" target=\"_parent\"><img src=\"https://colab.research.google.com/assets/colab-badge.svg\" alt=\"Open In Colab\"/></a>"
      ]
    },
    {
      "cell_type": "code",
      "execution_count": 7,
      "metadata": {
        "colab": {
          "base_uri": "https://localhost:8080/"
        },
        "id": "NMwhjj0hs9yK",
        "outputId": "45105751-813b-479f-8458-ac18d968ad34"
      },
      "outputs": [
        {
          "output_type": "stream",
          "name": "stdout",
          "text": [
            "Enter the phrase : On\n",
            " Gn\n"
          ]
        }
      ],
      "source": [
        "# translate any language into giraffe language\n",
        "\n",
        "def translate(phrase):\n",
        "  translation = \" \"\n",
        "\n",
        "  for letter in phrase:\n",
        "    if letter.lower() in \"aeiou\":\n",
        "      if letter.isupper():\n",
        "         translation = translation + \"G\"\n",
        "      else:\n",
        "         translation = translation + \"g\"\n",
        "    else :\n",
        "      translation = translation + letter\n",
        "  return translation\n",
        "\n",
        "print (translate(input(\"Enter the phrase : \")))\n",
        "\n",
        "\n"
      ]
    }
  ]
}