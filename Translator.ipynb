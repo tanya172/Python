{
  "nbformat": 4,
  "nbformat_minor": 0,
  "metadata": {
    "colab": {
      "provenance": [],
      "authorship_tag": "ABX9TyPrqOQ2vdXzyXLacMXP6w3n",
      "include_colab_link": true
    },
    "kernelspec": {
      "name": "python3",
      "display_name": "Python 3"
    },
    "language_info": {
      "name": "python"
    }
  },
  "cells": [
    {
      "cell_type": "markdown",
      "metadata": {
        "id": "view-in-github",
        "colab_type": "text"
      },
      "source": [
        "<a href=\"https://colab.research.google.com/github/tanya172/Python/blob/main/Translator.ipynb\" target=\"_parent\"><img src=\"https://colab.research.google.com/assets/colab-badge.svg\" alt=\"Open In Colab\"/></a>"
      ]
    },
    {
      "cell_type": "code",
      "execution_count": 5,
      "metadata": {
        "colab": {
          "base_uri": "https://localhost:8080/"
        },
        "id": "NMwhjj0hs9yK",
        "outputId": "8f60971c-06f8-498b-d0da-705918550519"
      },
      "outputs": [
        {
          "output_type": "stream",
          "name": "stdout",
          "text": [
            "Enter the phrase : dog\n",
            " dgg\n"
          ]
        }
      ],
      "source": [
        "# translate any language into giraffe language\n",
        "\n",
        "def translate(phrase):\n",
        "  translation = \" \"\n",
        "\n",
        "  for letter in phrase:\n",
        "    if letter in \"aeiouAEIOU\":\n",
        "      translation = translation + \"g\"\n",
        "    else :\n",
        "      translation = translation + letter\n",
        "  return translation\n",
        "\n",
        "print (translate(input(\"Enter the phrase : \")))\n",
        "\n",
        "\n"
      ]
    }
  ]
}